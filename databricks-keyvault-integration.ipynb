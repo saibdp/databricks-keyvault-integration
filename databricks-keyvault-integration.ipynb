{
 "cells": [
  {
   "cell_type": "code",
   "execution_count": 0,
   "metadata": {
    "application/vnd.databricks.v1+cell": {
     "cellMetadata": {
      "byteLimit": 2048000,
      "rowLimit": 10000
     },
     "inputWidgets": {},
     "nuid": "bf874dad-83bc-405c-b72f-68a6781a05bb",
     "showTitle": false,
     "tableResultSettingsMap": {},
     "title": ""
    }
   },
   "outputs": [],
   "source": [
    "# Fetch the secret dynamically from Azure Key Vault via Databricks secret scope\n",
    "service_credential = dbutils.secrets.get(scope=\"dl-storage-access\", key=\"dlstorageaccess\") #scope name in DBX, key name in keyvault\n",
    "\n",
    "# Azure AD and Storage configurations\n",
    "application_id = 'b8446e7b-fb29-48b2-bde3-f34fe44c2ecf'  \n",
    "directory_id = '0f5491d0-b2cc-42cb-a378-59d1952ef13c'  \n",
    "\n",
    "# Configure Spark to access Azure Data Lake Storage\n",
    "spark.conf.set(\"fs.azure.account.auth.type.saibdpstorage.dfs.core.windows.net\", \"OAuth\")\n",
    "spark.conf.set(\"fs.azure.account.oauth.provider.type.saibdpstorage.dfs.core.windows.net\", \"org.apache.hadoop.fs.azurebfs.oauth2.ClientCredsTokenProvider\")\n",
    "spark.conf.set(\"fs.azure.account.oauth2.client.id.saibdpstorage.dfs.core.windows.net\", application_id)\n",
    "spark.conf.set(\"fs.azure.account.oauth2.client.secret.saibdpstorage.dfs.core.windows.net\", service_credential)\n",
    "spark.conf.set(\"fs.azure.account.oauth2.client.endpoint.saibdpstorage.dfs.core.windows.net\", f\"https://login.microsoftonline.com/{directory_id}/oauth2/token\")\n",
    "\n",
    "\n"
   ]
  },
  {
   "cell_type": "code",
   "execution_count": 0,
   "metadata": {
    "application/vnd.databricks.v1+cell": {
     "cellMetadata": {
      "byteLimit": 2048000,
      "rowLimit": 10000
     },
     "inputWidgets": {},
     "nuid": "97671fa2-3055-47ae-ad77-c9d98fcfd8c5",
     "showTitle": false,
     "tableResultSettingsMap": {},
     "title": ""
    }
   },
   "outputs": [
    {
     "output_type": "display_data",
     "data": {
      "text/html": [
       "<style scoped>\n",
       "  .table-result-container {\n",
       "    max-height: 300px;\n",
       "    overflow: auto;\n",
       "  }\n",
       "  table, th, td {\n",
       "    border: 1px solid black;\n",
       "    border-collapse: collapse;\n",
       "  }\n",
       "  th, td {\n",
       "    padding: 5px;\n",
       "  }\n",
       "  th {\n",
       "    text-align: left;\n",
       "  }\n",
       "</style><div class='table-result-container'><table class='table-result'><thead style='background-color: white'><tr><th>path</th><th>name</th><th>size</th><th>modificationTime</th></tr></thead><tbody><tr><td>abfss://raw@saibdpstorage.dfs.core.windows.net/sales_1.csv</td><td>sales_1.csv</td><td>574</td><td>1732626934000</td></tr><tr><td>abfss://raw@saibdpstorage.dfs.core.windows.net/sales_2.csv</td><td>sales_2.csv</td><td>579</td><td>1732626934000</td></tr></tbody></table></div>"
      ]
     },
     "metadata": {
      "application/vnd.databricks.v1+output": {
       "addedWidgets": {},
       "aggData": [],
       "aggError": "",
       "aggOverflow": false,
       "aggSchema": [],
       "aggSeriesLimitReached": false,
       "aggType": "",
       "arguments": {},
       "columnCustomDisplayInfos": {},
       "data": [
        [
         "abfss://raw@saibdpstorage.dfs.core.windows.net/sales_1.csv",
         "sales_1.csv",
         574,
         1732626934000
        ],
        [
         "abfss://raw@saibdpstorage.dfs.core.windows.net/sales_2.csv",
         "sales_2.csv",
         579,
         1732626934000
        ]
       ],
       "datasetInfos": [],
       "dbfsResultPath": null,
       "isJsonSchema": true,
       "metadata": {},
       "overflow": false,
       "plotOptions": {
        "customPlotOptions": {},
        "displayType": "table",
        "pivotAggregation": null,
        "pivotColumns": null,
        "xColumns": null,
        "yColumns": null
       },
       "removedWidgets": [],
       "schema": [
        {
         "metadata": "{}",
         "name": "path",
         "type": "\"string\""
        },
        {
         "metadata": "{}",
         "name": "name",
         "type": "\"string\""
        },
        {
         "metadata": "{}",
         "name": "size",
         "type": "\"long\""
        },
        {
         "metadata": "{}",
         "name": "modificationTime",
         "type": "\"long\""
        }
       ],
       "type": "table"
      }
     },
     "output_type": "display_data"
    }
   ],
   "source": [
    "display(dbutils.fs.ls(\"abfss://raw@saibdpstorage.dfs.core.windows.net\"))"
   ]
  },
  {
   "cell_type": "code",
   "execution_count": 0,
   "metadata": {
    "application/vnd.databricks.v1+cell": {
     "cellMetadata": {
      "byteLimit": 2048000,
      "rowLimit": 10000
     },
     "inputWidgets": {},
     "nuid": "554c7e3b-7690-4929-b048-e429bb10ec46",
     "showTitle": false,
     "tableResultSettingsMap": {},
     "title": ""
    }
   },
   "outputs": [],
   "source": [
    "df = spark.read.csv('abfss://raw@saibdpstorage.dfs.core.windows.net/sales_1.csv',sep=',',header= True)"
   ]
  },
  {
   "cell_type": "code",
   "execution_count": 0,
   "metadata": {
    "application/vnd.databricks.v1+cell": {
     "cellMetadata": {
      "byteLimit": 2048000,
      "rowLimit": 10000
     },
     "inputWidgets": {},
     "nuid": "9d63aca7-f66f-4624-b853-4f3abfefe55f",
     "showTitle": false,
     "tableResultSettingsMap": {},
     "title": ""
    }
   },
   "outputs": [
    {
     "output_type": "stream",
     "name": "stdout",
     "output_type": "stream",
     "text": [
      "+-------+----------+----------+---------+-----------+--------+---------+----------+\n|OrderID|CustomerID| OrderDate|ProductID|ProductName|Quantity|UnitPrice|TotalPrice|\n+-------+----------+----------+---------+-----------+--------+---------+----------+\n|  10001|     20001|2024-01-10|    30001|   Widget A|       5|      100|       500|\n|  10002|     20002|2024-01-11|    30002|   Gadget B|       2|      150|       300|\n|  10003|     20003|2024-01-12|    30003|   Device C|       1|      200|       200|\n|  10004|     20001|2024-01-13|    30004|   Widget D|       3|      120|       360|\n|  10005|     20004|2024-01-14|    30005|   Gadget E|       4|      180|       720|\n|  10006|     20005|2024-01-15|    30006|   Device F|       2|      250|       500|\n|  10007|     20002|2024-01-16|    30007|   Widget G|       6|       75|       450|\n|  10008|     20006|2024-01-17|    30008|   Gadget H|       7|      130|       910|\n|  10009|     20007|2024-01-18|    30009|   Device I|       3|      190|       570|\n|  10010|     20003|2024-01-19|    30010|   Widget J|       5|      110|       550|\n+-------+----------+----------+---------+-----------+--------+---------+----------+\n\n"
     ]
    }
   ],
   "source": [
    "df.show()"
   ]
  },
  {
   "cell_type": "code",
   "execution_count": 0,
   "metadata": {
    "application/vnd.databricks.v1+cell": {
     "cellMetadata": {},
     "inputWidgets": {},
     "nuid": "171e04d5-73fc-4328-9016-9fcc18748c8a",
     "showTitle": false,
     "tableResultSettingsMap": {},
     "title": ""
    }
   },
   "outputs": [],
   "source": []
  }
 ],
 "metadata": {
  "application/vnd.databricks.v1+notebook": {
   "dashboards": [],
   "environmentMetadata": {
    "base_environment": "",
    "client": "1"
   },
   "language": "python",
   "notebookMetadata": {
    "pythonIndentUnit": 4
   },
   "notebookName": "Untitled Notebook 2024-11-26 08:16:19",
   "widgets": {}
  },
  "language_info": {
   "name": "python"
  }
 },
 "nbformat": 4,
 "nbformat_minor": 0
}